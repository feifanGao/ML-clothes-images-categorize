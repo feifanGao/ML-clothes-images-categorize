{
 "cells": [
  {
   "cell_type": "markdown",
   "id": "4050f3ac",
   "metadata": {},
   "source": [
    "## 1. load the data"
   ]
  },
  {
   "cell_type": "code",
   "execution_count": 1,
   "id": "71d17a47",
   "metadata": {},
   "outputs": [
    {
     "name": "stdout",
     "output_type": "stream",
     "text": [
      "['images_training.h5', 'labels_training.h5']\n"
     ]
    }
   ],
   "source": [
    "import h5py\n",
    "import numpy as np\n",
    "import os\n",
    "import time\n",
    "print(os.listdir(\"./Input/train\"))"
   ]
  },
  {
   "cell_type": "markdown",
   "id": "c117b2c6",
   "metadata": {},
   "source": [
    "1.1. load the train set"
   ]
  },
  {
   "cell_type": "code",
   "execution_count": 2,
   "id": "db261ca5",
   "metadata": {},
   "outputs": [
    {
     "name": "stdout",
     "output_type": "stream",
     "text": [
      "(30000, 784) (30000,)\n"
     ]
    }
   ],
   "source": [
    "with h5py.File('./Input/train/images_training.h5','r') as H:\n",
    "    data_train = np.copy(H['datatrain'])\n",
    "with h5py.File('./Input/train/labels_training.h5','r') as H:\n",
    "    label_train = np.copy(H['labeltrain'])\n",
    "    label_train = label_train.astype(np.uint8)\n",
    "# using H['datatest'], H['labeltes t'] for test dataset.\n",
    "print(data_train.shape,label_train.shape)"
   ]
  },
  {
   "cell_type": "code",
   "execution_count": 3,
   "id": "6f0bd30f",
   "metadata": {
    "scrolled": true
   },
   "outputs": [
    {
     "data": {
      "image/png": "[encoded data removed]",
      "text/plain": [
       "<Figure size 432x288 with 1 Axes>"
      ]
     },
     "metadata": {
      "needs_background": "light"
     },
     "output_type": "display_data"
    }
   ],
   "source": [
    "import matplotlib.pyplot as plt\n",
    "example_train = data_train.reshape((data_train.shape[0], 28, 28))\n",
    "plt.imshow(example_train[6], cmap=plt.get_cmap('gray'))\n",
    "plt.title(\"class \" + str(label_train[6]) + \": Ankle boot\" )\n",
    "plt.show()"
   ]
  },
  {
   "cell_type": "markdown",
   "id": "380c9cdd",
   "metadata": {},
   "source": [
    "1.1. load the test set"
   ]
  },
  {
   "cell_type": "code",
   "execution_count": 4,
   "id": "20b9af4a",
   "metadata": {},
   "outputs": [
    {
     "name": "stdout",
     "output_type": "stream",
     "text": [
      "(5000, 784) (2000,)\n"
     ]
    }
   ],
   "source": [
    "with h5py.File('./Input/test/images_testing.h5','r') as H:\n",
    "    data_test = np.copy(H['datatest'])\n",
    "with h5py.File('./Input/test/labels_testing_2000.h5','r') as H:\n",
    "    label_test = np.copy(H['labeltest'])\n",
    "    label_test = label_test.astype(np.uint8)\n",
    "# using H['datatest'], H['labeltest'] for test dataset.\n",
    "print(data_test.shape,label_test.shape)"
   ]
  },
  {
   "cell_type": "code",
   "execution_count": 5,
   "id": "d1fcf8dd",
   "metadata": {},
   "outputs": [
    {
     "data": {
      "image/png": "[encoded data removed]",
      "text/plain": [
       "<Figure size 432x288 with 1 Axes>"
      ]
     },
     "metadata": {
      "needs_background": "light"
     },
     "output_type": "display_data"
    }
   ],
   "source": [
    "import matplotlib.pyplot as plt\n",
    "example_test = data_test.reshape((data_test.shape[0], 28, 28))\n",
    "plt.imshow(example_test[1999], cmap=plt.get_cmap('gray'))\n",
    "plt.title(\"class \" + str(label_test[1999]) + \": Bag\" )\n",
    "plt.show()"
   ]
  },
  {
   "cell_type": "markdown",
   "id": "14df7c38",
   "metadata": {},
   "source": [
    "## 2. Preprocessing"
   ]
  },
  {
   "cell_type": "markdown",
   "id": "cdcd1213",
   "metadata": {},
   "source": [
    "2.1 Normalization"
   ]
  },
  {
   "cell_type": "code",
   "execution_count": 38,
   "id": "6a389134",
   "metadata": {},
   "outputs": [],
   "source": [
    "from sklearn.preprocessing import MinMaxScaler\n",
    "\n",
    "time_start_pre = time.time()\n",
    "\n",
    "scaler = MinMaxScaler()\n",
    "scaler.fit(data_train)\n",
    "data_train = scaler.transform(data_train)\n",
    "data_test = scaler.transform(data_test)"
   ]
  },
  {
   "cell_type": "markdown",
   "id": "c18b09b7",
   "metadata": {},
   "source": [
    "2.2 Dimensionality Reduction\n",
    "\n",
    "apply PCA without reducing the dimensionality and compute the minimum number of dimensions (features) required for preserving 95% of the variance:"
   ]
  },
  {
   "cell_type": "code",
   "execution_count": 39,
   "id": "72eea76b",
   "metadata": {},
   "outputs": [
    {
     "data": {
      "text/plain": [
       "188"
      ]
     },
     "execution_count": 39,
     "metadata": {},
     "output_type": "execute_result"
    }
   ],
   "source": [
    "from sklearn.decomposition import PCA\n",
    "\n",
    "# pca=PCA(n_components=0.95)\n",
    "# data_train_reduced = pca.fit_transform(data_train)\n",
    "\n",
    "# print(\"Reduced shape of training data: {}\".format(str(data_train_reduced.shape)))\n",
    "pca = PCA()\n",
    "pca.fit(data_train)\n",
    "cumsum = np.cumsum(pca.explained_variance_ratio_)\n",
    "d = np.argmax(cumsum >= 0.95) + 1\n",
    "d"
   ]
  },
  {
   "cell_type": "code",
   "execution_count": 40,
   "id": "0e7400f3",
   "metadata": {},
   "outputs": [
    {
     "name": "stdout",
     "output_type": "stream",
     "text": [
      "Reduced shape of training data: (30000, 188)\n",
      "Reduced shape of testing data: (5000, 188)\n",
      "time cost for preprocessing 3.882610559463501 s\n"
     ]
    }
   ],
   "source": [
    "# pca train\n",
    "pca = PCA(n_components = 188)\n",
    "data_train_reduced = pca.fit_transform(data_train)\n",
    "data_test_reduced = pca.transform(data_test)\n",
    "\n",
    "time_end_pre = time.time()\n",
    "# data_train_recovered = pca.inverse_transform(data_train_reduced)  \n",
    "print(\"Reduced shape of training data: {}\".format(str(data_train_reduced.shape)))\n",
    "print(\"Reduced shape of testing data: {}\".format(str(data_test_reduced.shape)))\n",
    "print(\"time cost for preprocessing\",time_end_knn - time_start_knn,'s')"
   ]
  },
  {
   "cell_type": "code",
   "execution_count": 9,
   "id": "1cd4637e",
   "metadata": {},
   "outputs": [],
   "source": [
    "# pca test\n",
    "\n",
    "# data_test_recovered = pca.inverse_transform(data_test_reduced)  \n",
    "# print(\"Reduced shape of testing data: {}\".format(str(data_test_reduced.shape)))"
   ]
  },
  {
   "cell_type": "markdown",
   "id": "80e39912",
   "metadata": {},
   "source": [
    "## 3. implementation for KNN"
   ]
  },
  {
   "cell_type": "markdown",
   "id": "fec9e481",
   "metadata": {},
   "source": [
    "implementation for KNN algorithm"
   ]
  },
  {
   "cell_type": "code",
   "execution_count": 10,
   "id": "770cf1ff",
   "metadata": {},
   "outputs": [
    {
     "name": "stdout",
     "output_type": "stream",
     "text": [
      "time cost for knn 0.0069811344146728516 s\n",
      "score: 0.8435\n"
     ]
    }
   ],
   "source": [
    "from sklearn.neighbors import KNeighborsClassifier\n",
    "\n",
    "knn = KNeighborsClassifier(n_neighbors=6)\n",
    "knn.fit(data_train_reduced,label_train)\n",
    "print(\"score: {}\".format(knn.score(data_test_reduced[:2000],label_test)))"
   ]
  },
  {
   "cell_type": "markdown",
   "id": "d8112d61",
   "metadata": {},
   "source": [
    "10 fold - grid search((commented--details in report)"
   ]
  },
  {
   "cell_type": "code",
   "execution_count": 11,
   "id": "ecaae77f",
   "metadata": {},
   "outputs": [],
   "source": [
    "# param_grid = {'n_neighbors': [3,8,10],\n",
    "#               'p': [2]}\n",
    "# print(\"Parameter grid:\\n{}\".format(param_grid))\n",
    "\n",
    "# from sklearn.model_selection import GridSearchCV\n",
    "# from sklearn.neighbors import KNeighborsClassifier\n",
    "# grid_search = GridSearchCV(KNeighborsClassifier(), param_grid, cv=10,\n",
    "#                           return_train_score=True)\n",
    "\n",
    "\n",
    "# grid_search.fit(data_train_reduced, label_train)\n",
    "\n",
    "# print(\"Test set score: {:.2f}\".format(grid_search.score(data_test_reduced[:2000], label_test)))\n",
    "# print(\"Best parameters: {}\".format(grid_search.best_params_))\n",
    "# print(\"Best cross-validation score: {:.2f}\".format(grid_search.best_score_))\n",
    "# print(\"Best estimator:\\n{}\".format(grid_search.best_estimator_))"
   ]
  },
  {
   "cell_type": "markdown",
   "id": "b9a44702",
   "metadata": {},
   "source": [
    "export the grid search result((commented--details in report))"
   ]
  },
  {
   "cell_type": "code",
   "execution_count": 12,
   "id": "1288a328",
   "metadata": {},
   "outputs": [],
   "source": [
    "# import pandas as pd\n",
    "# knn_result = pd.DataFrame(grid_search.cv_results_)\n",
    "# knn_result.to_csv(\"grid_search_knn_result.csv\")"
   ]
  },
  {
   "cell_type": "code",
   "execution_count": 24,
   "id": "a87b4aa4",
   "metadata": {},
   "outputs": [
    {
     "name": "stdout",
     "output_type": "stream",
     "text": [
      "score: 0.8435\n",
      "time cost for knn 3.882610559463501 s\n"
     ]
    }
   ],
   "source": [
    "time_start_knn = time.time()\n",
    "knn = KNeighborsClassifier(n_neighbors=8)\n",
    "knn.fit(data_train_reduced,label_train)\n",
    "print(\"score: {}\".format(knn.score(data_test_reduced[:2000],label_test)))\n",
    "time_end_knn = time.time()\n",
    "print(\"time cost for knn\",time_end_knn - time_start_knn,'s')"
   ]
  },
  {
   "cell_type": "code",
   "execution_count": 43,
   "id": "aad6068e",
   "metadata": {},
   "outputs": [
    {
     "name": "stdout",
     "output_type": "stream",
     "text": [
      "0\n"
     ]
    }
   ],
   "source": [
    "y_pred_KNN = knn.predict(data_test_reduced)"
   ]
  },
  {
   "cell_type": "markdown",
   "id": "6ad37c67",
   "metadata": {},
   "source": [
    "## 4. Implementation for Decision Tree"
   ]
  },
  {
   "cell_type": "markdown",
   "id": "d23f3ab5",
   "metadata": {},
   "source": [
    "4.1 Implementation & Apply pre-pruning"
   ]
  },
  {
   "cell_type": "code",
   "execution_count": 14,
   "id": "e4e1a04c",
   "metadata": {},
   "outputs": [
    {
     "name": "stdout",
     "output_type": "stream",
     "text": [
      "Accuracy on training set: 0.818\n",
      "Accuracy on test set: 0.775\n"
     ]
    }
   ],
   "source": [
    "from sklearn.tree import DecisionTreeClassifier\n",
    "tree = DecisionTreeClassifier(criterion='entropy',max_depth=9, random_state=42)\n",
    "\n",
    "tree.fit(data_train_reduced, label_train)\n",
    "print(\"Accuracy on training set: {:.3f}\".format(tree.score(data_train_reduced, label_train)))\n",
    "print(\"Accuracy on test set: {:.3f}\".format(tree.score(data_test_reduced[:2000], label_test)))"
   ]
  },
  {
   "cell_type": "markdown",
   "id": "4840c958",
   "metadata": {},
   "source": [
    "4.2 bagging"
   ]
  },
  {
   "cell_type": "code",
   "execution_count": 41,
   "id": "92bffc50",
   "metadata": {},
   "outputs": [
    {
     "name": "stdout",
     "output_type": "stream",
     "text": [
      "Bagging ensemble of decision trees - accuracy on test set:\n",
      "0.77\n",
      "time cost for dt: 53.335368156433105  s \n"
     ]
    }
   ],
   "source": [
    "from sklearn.ensemble import BaggingClassifier\n",
    "\n",
    "bag_clf = BaggingClassifier(\n",
    "    DecisionTreeClassifier(random_state=42), n_estimators=700,\n",
    "    max_samples=500, bootstrap=True, random_state=42)\n",
    "time_start_dt = time.time()\n",
    "bag_clf.fit(data_train_reduced, label_train)\n",
    "y_bagging_pred = bag_clf.predict(data_test_reduced[:2000])\n",
    "\n",
    "from sklearn.metrics import accuracy_score\n",
    "\n",
    "print(\"Bagging ensemble of decision trees - accuracy on test set:\")\n",
    "print(accuracy_score(label_test, y_bagging_pred))\n",
    "time_end_dt = time.time()\n",
    "print(\"time cost for dt:\",time_end_dt - time_start_dt,\" s \")"
   ]
  },
  {
   "cell_type": "markdown",
   "id": "a390b8b3",
   "metadata": {},
   "source": [
    "predict"
   ]
  },
  {
   "cell_type": "code",
   "execution_count": null,
   "id": "a7026e7a",
   "metadata": {},
   "outputs": [],
   "source": [
    "y_bagging_pred = bag_clf.predict(data_test_reduced)"
   ]
  },
  {
   "cell_type": "markdown",
   "id": "b9b47166",
   "metadata": {},
   "source": [
    "## 5. Implementation for Naïve Bayes"
   ]
  },
  {
   "cell_type": "markdown",
   "id": "d6a82dea",
   "metadata": {},
   "source": [
    "Create a GaussianNB classifier"
   ]
  },
  {
   "cell_type": "code",
   "execution_count": 42,
   "id": "6b14c576",
   "metadata": {},
   "outputs": [
    {
     "name": "stdout",
     "output_type": "stream",
     "text": [
      "Accuracy on test set: 0.729\n",
      "time cost of naive bayes 0.08178186416625977 s\n"
     ]
    }
   ],
   "source": [
    "from sklearn.naive_bayes import GaussianNB\n",
    "\n",
    "nb = GaussianNB()\n",
    "time_start_nb = time.time()\n",
    "nb.fit(data_train_reduced, label_train)\n",
    "y_pred_GaussianNB = nb.predict(data_test_reduced[:2000])\n",
    "print(\"Accuracy on test set: {:.3f}\".format(accuracy_score(y_pred_GaussianNB, label_test)))\n",
    "time_end_nb = time.time()\n",
    "print(\"time cost of naive bayes\",time_end_nb - time_start_nb,'s')"
   ]
  },
  {
   "cell_type": "markdown",
   "id": "86155719",
   "metadata": {},
   "source": [
    "Predict"
   ]
  },
  {
   "cell_type": "code",
   "execution_count": 30,
   "id": "20d4a3d6",
   "metadata": {},
   "outputs": [],
   "source": [
    "y_pred_GaussianNB = nb.predict(data_test_reduced)"
   ]
  },
  {
   "cell_type": "markdown",
   "id": "77f4947a",
   "metadata": {},
   "source": [
    "evaluate our NB classifier using 10-fold cross-validation"
   ]
  },
  {
   "cell_type": "code",
   "execution_count": 28,
   "id": "1cbc8df3",
   "metadata": {},
   "outputs": [
    {
     "name": "stdout",
     "output_type": "stream",
     "text": [
      "Cross-validation scores: [0.738      0.74633333 0.735      0.73866667 0.75166667 0.733\n",
      " 0.739      0.75133333 0.756      0.75466667]\n",
      "Average cross-validation score: 0.74\n",
      "time cost of naive bayes 0.7918825149536133 s\n"
     ]
    }
   ],
   "source": [
    "from sklearn.naive_bayes import GaussianNB\n",
    "from sklearn.model_selection import cross_val_score\n",
    "\n",
    "nb = GaussianNB()\n",
    "scores = cross_val_score(nb, data_train_reduced, label_train, cv=10)\n",
    "print(\"Cross-validation scores: {}\".format(scores)) #accuracy for each fold\n",
    "print(\"Average cross-validation score: {:.2f}\".format(scores.mean())) #average accuracy over all folds"
   ]
  },
  {
   "cell_type": "markdown",
   "id": "afa3241e",
   "metadata": {},
   "source": [
    "## 6. Implementation for SVM"
   ]
  },
  {
   "cell_type": "markdown",
   "id": "3ccec778",
   "metadata": {},
   "source": [
    "6.1 Implement SVM classifier"
   ]
  },
  {
   "cell_type": "code",
   "execution_count": 18,
   "id": "32b8a192",
   "metadata": {},
   "outputs": [
    {
     "name": "stdout",
     "output_type": "stream",
     "text": [
      "Linear SVM - accuracy on test set: 0.843\n",
      "time cost for linear svm 24.848548412322998 s\n",
      "SVM with RBF kernel - accuracy on test set: 0.855\n",
      "time cost for rdf svm 22.555681467056274 s\n"
     ]
    }
   ],
   "source": [
    "from sklearn.svm import SVC\n",
    "# Linear SVM\n",
    "lin_svm = SVC(kernel=\"linear\")\n",
    "time_start_svm_linear = time.time()\n",
    "lin_svm.fit(data_train_reduced, label_train)\n",
    "time_end_svm_linear = time.time()\n",
    "y_pred_SVM = lin_svm.predict(data_test_reduced[:2000])\n",
    "print(\"Linear SVM - accuracy on test set: {:.3f}\".format(accuracy_score(y_pred_SVM, label_test)))\n",
    "print(\"time cost for linear svm\",time_end_svm_linear-time_start_svm_linear,'s')\n",
    "# RBF SVM\n",
    "rbf_svm = SVC(kernel=\"rbf\", gamma=\"auto\")\n",
    "time_start_svm_rbf = time.time()\n",
    "rbf_svm.fit(data_train_reduced, label_train)\n",
    "time_end_svm_rbf = time.time()\n",
    "y_pred_SVM = rbf_svm.predict(data_test_reduced[:2000])\n",
    "print(\"SVM with RBF kernel - accuracy on test set: {:.3f}\".format(accuracy_score(y_pred_SVM, label_test)))\n",
    "print(\"time cost for rdf svm\",time_end_svm_rbf-time_start_svm_rbf,'s')"
   ]
  },
  {
   "cell_type": "markdown",
   "id": "58eba1f9",
   "metadata": {},
   "source": [
    "6.2 10 fold grid search based on SVM(commented--details in report)"
   ]
  },
  {
   "cell_type": "code",
   "execution_count": 19,
   "id": "8ecd26a7",
   "metadata": {},
   "outputs": [],
   "source": [
    "# param_grid = {'C': [1],\n",
    "#               'gamma': [0.004,1/188,0.006]}\n",
    "# print(\"Parameter grid:\\n{}\".format(param_grid))\n",
    "\n",
    "\n",
    "# # Use GridSearcCV on the training set\n",
    "# from sklearn.model_selection import GridSearchCV\n",
    "# from sklearn.svm import SVC\n",
    "# grid_search = GridSearchCV(SVC(), param_grid, cv=10,\n",
    "#                           return_train_score=True)\n",
    "\n",
    "# grid_search.fit(data_train_reduced, label_train)\n",
    "\n",
    "# # Accuracy on test set of the model with selected best parameters:\n",
    "# print(\"Test set score: {:.2f}\".format(grid_search.score(data_test_reduced[:2000], label_test)))\n",
    "\n",
    "\n",
    "# print(\"Best parameters: {}\".format(grid_search.best_params_))\n",
    "# print(\"Best cross-validation score: {:.2f}\".format(grid_search.best_score_))\n",
    "# print(\"Best estimator:\\n{}\".format(grid_search.best_estimator_))"
   ]
  },
  {
   "cell_type": "code",
   "execution_count": 33,
   "id": "ffefd41e",
   "metadata": {},
   "outputs": [
    {
     "name": "stdout",
     "output_type": "stream",
     "text": [
      "SVM with ref kernel C=1, gama=0.006 - accuracy on test set: 0.855\n",
      "time cost for rdf svm 22.87382960319519 s\n"
     ]
    }
   ],
   "source": [
    "# RBF SVM\n",
    "rbf_svm = SVC(kernel=\"rbf\", gamma=0.006, C=1)\n",
    "time_start_svm_rbf = time.time()\n",
    "rbf_svm.fit(data_train_reduced, label_train)\n",
    "print(\"SVM with ref kernel C=1, gama=0.006 - accuracy on test set: {:.3f}\".format(accuracy_score(y_pred_SVM, label_test)))\n",
    "time_end_svm_rbf = time.time()\n",
    "print(\"time cost for rdf svm\",time_end_svm_rbf-time_start_svm_rbf,'s')"
   ]
  },
  {
   "cell_type": "markdown",
   "id": "bde3ab6b",
   "metadata": {},
   "source": [
    "predict"
   ]
  },
  {
   "cell_type": "code",
   "execution_count": 36,
   "id": "cce7de30",
   "metadata": {},
   "outputs": [
    {
     "name": "stdout",
     "output_type": "stream",
     "text": [
      "0\n"
     ]
    }
   ],
   "source": [
    "y_pred_SVM = rbf_svm.predict(data_test_reduced)"
   ]
  },
  {
   "cell_type": "markdown",
   "id": "96ecd431",
   "metadata": {},
   "source": [
    "export the result table(commented--details in report)"
   ]
  },
  {
   "cell_type": "code",
   "execution_count": 20,
   "id": "14d093b2",
   "metadata": {},
   "outputs": [],
   "source": [
    "# import pandas as pd\n",
    "# svm_result = pd.DataFrame(grid_search.cv_results_)\n",
    "# svm_result.to_csv(\"grid_search_svm_result.csv\")"
   ]
  },
  {
   "cell_type": "markdown",
   "id": "8e92214c",
   "metadata": {},
   "source": [
    "## 7.  Output the prediction"
   ]
  },
  {
   "cell_type": "code",
   "execution_count": 37,
   "id": "0513015d",
   "metadata": {},
   "outputs": [],
   "source": [
    "import numpy as np\n",
    "\n",
    "with h5py.File('Output/predicted_labels.h5','w') as H:\n",
    "    H.create_dataset('Output',data=y_pred_SVM)"
   ]
  }
 ],
 "metadata": {
  "kernelspec": {
   "display_name": "Python 3",
   "language": "python",
   "name": "python3"
  },
  "language_info": {
   "codemirror_mode": {
    "name": "ipython",
    "version": 3
   },
   "file_extension": ".py",
   "mimetype": "text/x-python",
   "name": "python",
   "nbconvert_exporter": "python",
   "pygments_lexer": "ipython3",
   "version": "3.8.8"
  }
 },
 "nbformat": 4,
 "nbformat_minor": 5
}
